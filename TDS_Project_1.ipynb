{
  "nbformat": 4,
  "nbformat_minor": 0,
  "metadata": {
    "colab": {
      "provenance": []
    },
    "kernelspec": {
      "name": "python3",
      "display_name": "Python 3"
    },
    "language_info": {
      "name": "python"
    }
  },
  "cells": [
    {
      "cell_type": "code",
      "source": [
        "import pandas as pd\n",
        "import numpy as np\n",
        "import matplotlib.pyplot as plt\n",
        "import seaborn as sns"
      ],
      "metadata": {
        "id": "P17TySeaKBh2"
      },
      "execution_count": 1,
      "outputs": []
    },
    {
      "cell_type": "markdown",
      "source": [
        "1. Who are the top 5 users in Bangalore with the highest number of followers? List their login in order, comma-separated."
      ],
      "metadata": {
        "id": "IreRLko2syek"
      }
    },
    {
      "cell_type": "markdown",
      "source": [],
      "metadata": {
        "id": "JGcJATMVszDe"
      }
    },
    {
      "cell_type": "code",
      "source": [
        "df = pd.read_csv('/content/users.csv')\n",
        "df_r = pd.read_csv('/content/repositories.csv')\n",
        "df.head(5)"
      ],
      "metadata": {
        "colab": {
          "base_uri": "https://localhost:8080/",
          "height": 591
        },
        "id": "3UsrxzQsKGgC",
        "outputId": "f263ff14-7148-4662-d67e-8491657c0d97"
      },
      "execution_count": 4,
      "outputs": [
        {
          "output_type": "execute_result",
          "data": {
            "text/plain": [
              "             login           name          company          location  \\\n",
              "0      krishnaik06   Krish C Naik    PANASONIC IIC         Bangalore   \n",
              "1  championswimmer    Arnav Gupta        JIOCINEMA  Bangalore, India   \n",
              "2    arpitbbhayani  Arpit Bhayani           DICEDB         Bangalore   \n",
              "3    manjunath5496    Manjunath.R  MYW3SCHOOLS.COM  Bangalore, India   \n",
              "4      tanaypratap   Tanay Pratap           INVACT  Bangalore, India   \n",
              "\n",
              "                     email  hireable  \\\n",
              "0    krishnaik06@gmail.com     False   \n",
              "1   dev@championswimmer.in      True   \n",
              "2                      NaN      True   \n",
              "3  manjunath5496@gmail.com     False   \n",
              "4      tanay.mit@gmail.com     False   \n",
              "\n",
              "                                                 bio  public_repos  followers  \\\n",
              "0  Data Scientist with ML and Deep  Learning expe...           329      30869   \n",
              "1  Director of Engineering - @JioCinema ┃\\r\\nPast...           351       4661   \n",
              "2  Creator of @DiceDB • ex-Google Dataproc, ex-Am...           188       4549   \n",
              "3  \"Science is not only a disciple of reason but,...          1563       4081   \n",
              "4         Founder & CEO @invact . Teacher @neogcamp             40       3030   \n",
              "\n",
              "   following            created_at      surname  bio_len  bio_word_count  \n",
              "0          0  2016-06-20T09:25:45Z         Naik     52.0               8  \n",
              "1         29  2012-01-13T07:41:40Z        Gupta    150.0              21  \n",
              "2          3  2013-06-20T06:40:12Z      Bhayani     60.0               9  \n",
              "3       9313  2016-06-16T05:02:32Z  Manjunath.R    101.0              18  \n",
              "4          1  2014-12-17T05:15:06Z       Pratap     42.0               7  "
            ],
            "text/html": [
              "\n",
              "  <div id=\"df-58781756-feec-4827-a8e1-007c95e68ff7\" class=\"colab-df-container\">\n",
              "    <div>\n",
              "<style scoped>\n",
              "    .dataframe tbody tr th:only-of-type {\n",
              "        vertical-align: middle;\n",
              "    }\n",
              "\n",
              "    .dataframe tbody tr th {\n",
              "        vertical-align: top;\n",
              "    }\n",
              "\n",
              "    .dataframe thead th {\n",
              "        text-align: right;\n",
              "    }\n",
              "</style>\n",
              "<table border=\"1\" class=\"dataframe\">\n",
              "  <thead>\n",
              "    <tr style=\"text-align: right;\">\n",
              "      <th></th>\n",
              "      <th>login</th>\n",
              "      <th>name</th>\n",
              "      <th>company</th>\n",
              "      <th>location</th>\n",
              "      <th>email</th>\n",
              "      <th>hireable</th>\n",
              "      <th>bio</th>\n",
              "      <th>public_repos</th>\n",
              "      <th>followers</th>\n",
              "      <th>following</th>\n",
              "      <th>created_at</th>\n",
              "      <th>surname</th>\n",
              "      <th>bio_len</th>\n",
              "      <th>bio_word_count</th>\n",
              "    </tr>\n",
              "  </thead>\n",
              "  <tbody>\n",
              "    <tr>\n",
              "      <th>0</th>\n",
              "      <td>krishnaik06</td>\n",
              "      <td>Krish C Naik</td>\n",
              "      <td>PANASONIC IIC</td>\n",
              "      <td>Bangalore</td>\n",
              "      <td>krishnaik06@gmail.com</td>\n",
              "      <td>False</td>\n",
              "      <td>Data Scientist with ML and Deep  Learning expe...</td>\n",
              "      <td>329</td>\n",
              "      <td>30869</td>\n",
              "      <td>0</td>\n",
              "      <td>2016-06-20T09:25:45Z</td>\n",
              "      <td>Naik</td>\n",
              "      <td>52.0</td>\n",
              "      <td>8</td>\n",
              "    </tr>\n",
              "    <tr>\n",
              "      <th>1</th>\n",
              "      <td>championswimmer</td>\n",
              "      <td>Arnav Gupta</td>\n",
              "      <td>JIOCINEMA</td>\n",
              "      <td>Bangalore, India</td>\n",
              "      <td>dev@championswimmer.in</td>\n",
              "      <td>True</td>\n",
              "      <td>Director of Engineering - @JioCinema ┃\\r\\nPast...</td>\n",
              "      <td>351</td>\n",
              "      <td>4661</td>\n",
              "      <td>29</td>\n",
              "      <td>2012-01-13T07:41:40Z</td>\n",
              "      <td>Gupta</td>\n",
              "      <td>150.0</td>\n",
              "      <td>21</td>\n",
              "    </tr>\n",
              "    <tr>\n",
              "      <th>2</th>\n",
              "      <td>arpitbbhayani</td>\n",
              "      <td>Arpit Bhayani</td>\n",
              "      <td>DICEDB</td>\n",
              "      <td>Bangalore</td>\n",
              "      <td>NaN</td>\n",
              "      <td>True</td>\n",
              "      <td>Creator of @DiceDB • ex-Google Dataproc, ex-Am...</td>\n",
              "      <td>188</td>\n",
              "      <td>4549</td>\n",
              "      <td>3</td>\n",
              "      <td>2013-06-20T06:40:12Z</td>\n",
              "      <td>Bhayani</td>\n",
              "      <td>60.0</td>\n",
              "      <td>9</td>\n",
              "    </tr>\n",
              "    <tr>\n",
              "      <th>3</th>\n",
              "      <td>manjunath5496</td>\n",
              "      <td>Manjunath.R</td>\n",
              "      <td>MYW3SCHOOLS.COM</td>\n",
              "      <td>Bangalore, India</td>\n",
              "      <td>manjunath5496@gmail.com</td>\n",
              "      <td>False</td>\n",
              "      <td>\"Science is not only a disciple of reason but,...</td>\n",
              "      <td>1563</td>\n",
              "      <td>4081</td>\n",
              "      <td>9313</td>\n",
              "      <td>2016-06-16T05:02:32Z</td>\n",
              "      <td>Manjunath.R</td>\n",
              "      <td>101.0</td>\n",
              "      <td>18</td>\n",
              "    </tr>\n",
              "    <tr>\n",
              "      <th>4</th>\n",
              "      <td>tanaypratap</td>\n",
              "      <td>Tanay Pratap</td>\n",
              "      <td>INVACT</td>\n",
              "      <td>Bangalore, India</td>\n",
              "      <td>tanay.mit@gmail.com</td>\n",
              "      <td>False</td>\n",
              "      <td>Founder &amp; CEO @invact . Teacher @neogcamp</td>\n",
              "      <td>40</td>\n",
              "      <td>3030</td>\n",
              "      <td>1</td>\n",
              "      <td>2014-12-17T05:15:06Z</td>\n",
              "      <td>Pratap</td>\n",
              "      <td>42.0</td>\n",
              "      <td>7</td>\n",
              "    </tr>\n",
              "  </tbody>\n",
              "</table>\n",
              "</div>\n",
              "    <div class=\"colab-df-buttons\">\n",
              "\n",
              "  <div class=\"colab-df-container\">\n",
              "    <button class=\"colab-df-convert\" onclick=\"convertToInteractive('df-58781756-feec-4827-a8e1-007c95e68ff7')\"\n",
              "            title=\"Convert this dataframe to an interactive table.\"\n",
              "            style=\"display:none;\">\n",
              "\n",
              "  <svg xmlns=\"http://www.w3.org/2000/svg\" height=\"24px\" viewBox=\"0 -960 960 960\">\n",
              "    <path d=\"M120-120v-720h720v720H120Zm60-500h600v-160H180v160Zm220 220h160v-160H400v160Zm0 220h160v-160H400v160ZM180-400h160v-160H180v160Zm440 0h160v-160H620v160ZM180-180h160v-160H180v160Zm440 0h160v-160H620v160Z\"/>\n",
              "  </svg>\n",
              "    </button>\n",
              "\n",
              "  <style>\n",
              "    .colab-df-container {\n",
              "      display:flex;\n",
              "      gap: 12px;\n",
              "    }\n",
              "\n",
              "    .colab-df-convert {\n",
              "      background-color: #E8F0FE;\n",
              "      border: none;\n",
              "      border-radius: 50%;\n",
              "      cursor: pointer;\n",
              "      display: none;\n",
              "      fill: #1967D2;\n",
              "      height: 32px;\n",
              "      padding: 0 0 0 0;\n",
              "      width: 32px;\n",
              "    }\n",
              "\n",
              "    .colab-df-convert:hover {\n",
              "      background-color: #E2EBFA;\n",
              "      box-shadow: 0px 1px 2px rgba(60, 64, 67, 0.3), 0px 1px 3px 1px rgba(60, 64, 67, 0.15);\n",
              "      fill: #174EA6;\n",
              "    }\n",
              "\n",
              "    .colab-df-buttons div {\n",
              "      margin-bottom: 4px;\n",
              "    }\n",
              "\n",
              "    [theme=dark] .colab-df-convert {\n",
              "      background-color: #3B4455;\n",
              "      fill: #D2E3FC;\n",
              "    }\n",
              "\n",
              "    [theme=dark] .colab-df-convert:hover {\n",
              "      background-color: #434B5C;\n",
              "      box-shadow: 0px 1px 3px 1px rgba(0, 0, 0, 0.15);\n",
              "      filter: drop-shadow(0px 1px 2px rgba(0, 0, 0, 0.3));\n",
              "      fill: #FFFFFF;\n",
              "    }\n",
              "  </style>\n",
              "\n",
              "    <script>\n",
              "      const buttonEl =\n",
              "        document.querySelector('#df-58781756-feec-4827-a8e1-007c95e68ff7 button.colab-df-convert');\n",
              "      buttonEl.style.display =\n",
              "        google.colab.kernel.accessAllowed ? 'block' : 'none';\n",
              "\n",
              "      async function convertToInteractive(key) {\n",
              "        const element = document.querySelector('#df-58781756-feec-4827-a8e1-007c95e68ff7');\n",
              "        const dataTable =\n",
              "          await google.colab.kernel.invokeFunction('convertToInteractive',\n",
              "                                                    [key], {});\n",
              "        if (!dataTable) return;\n",
              "\n",
              "        const docLinkHtml = 'Like what you see? Visit the ' +\n",
              "          '<a target=\"_blank\" href=https://colab.research.google.com/notebooks/data_table.ipynb>data table notebook</a>'\n",
              "          + ' to learn more about interactive tables.';\n",
              "        element.innerHTML = '';\n",
              "        dataTable['output_type'] = 'display_data';\n",
              "        await google.colab.output.renderOutput(dataTable, element);\n",
              "        const docLink = document.createElement('div');\n",
              "        docLink.innerHTML = docLinkHtml;\n",
              "        element.appendChild(docLink);\n",
              "      }\n",
              "    </script>\n",
              "  </div>\n",
              "\n",
              "\n",
              "<div id=\"df-32970528-cb28-4ca1-b5cb-d5e54f84aa7e\">\n",
              "  <button class=\"colab-df-quickchart\" onclick=\"quickchart('df-32970528-cb28-4ca1-b5cb-d5e54f84aa7e')\"\n",
              "            title=\"Suggest charts\"\n",
              "            style=\"display:none;\">\n",
              "\n",
              "<svg xmlns=\"http://www.w3.org/2000/svg\" height=\"24px\"viewBox=\"0 0 24 24\"\n",
              "     width=\"24px\">\n",
              "    <g>\n",
              "        <path d=\"M19 3H5c-1.1 0-2 .9-2 2v14c0 1.1.9 2 2 2h14c1.1 0 2-.9 2-2V5c0-1.1-.9-2-2-2zM9 17H7v-7h2v7zm4 0h-2V7h2v10zm4 0h-2v-4h2v4z\"/>\n",
              "    </g>\n",
              "</svg>\n",
              "  </button>\n",
              "\n",
              "<style>\n",
              "  .colab-df-quickchart {\n",
              "      --bg-color: #E8F0FE;\n",
              "      --fill-color: #1967D2;\n",
              "      --hover-bg-color: #E2EBFA;\n",
              "      --hover-fill-color: #174EA6;\n",
              "      --disabled-fill-color: #AAA;\n",
              "      --disabled-bg-color: #DDD;\n",
              "  }\n",
              "\n",
              "  [theme=dark] .colab-df-quickchart {\n",
              "      --bg-color: #3B4455;\n",
              "      --fill-color: #D2E3FC;\n",
              "      --hover-bg-color: #434B5C;\n",
              "      --hover-fill-color: #FFFFFF;\n",
              "      --disabled-bg-color: #3B4455;\n",
              "      --disabled-fill-color: #666;\n",
              "  }\n",
              "\n",
              "  .colab-df-quickchart {\n",
              "    background-color: var(--bg-color);\n",
              "    border: none;\n",
              "    border-radius: 50%;\n",
              "    cursor: pointer;\n",
              "    display: none;\n",
              "    fill: var(--fill-color);\n",
              "    height: 32px;\n",
              "    padding: 0;\n",
              "    width: 32px;\n",
              "  }\n",
              "\n",
              "  .colab-df-quickchart:hover {\n",
              "    background-color: var(--hover-bg-color);\n",
              "    box-shadow: 0 1px 2px rgba(60, 64, 67, 0.3), 0 1px 3px 1px rgba(60, 64, 67, 0.15);\n",
              "    fill: var(--button-hover-fill-color);\n",
              "  }\n",
              "\n",
              "  .colab-df-quickchart-complete:disabled,\n",
              "  .colab-df-quickchart-complete:disabled:hover {\n",
              "    background-color: var(--disabled-bg-color);\n",
              "    fill: var(--disabled-fill-color);\n",
              "    box-shadow: none;\n",
              "  }\n",
              "\n",
              "  .colab-df-spinner {\n",
              "    border: 2px solid var(--fill-color);\n",
              "    border-color: transparent;\n",
              "    border-bottom-color: var(--fill-color);\n",
              "    animation:\n",
              "      spin 1s steps(1) infinite;\n",
              "  }\n",
              "\n",
              "  @keyframes spin {\n",
              "    0% {\n",
              "      border-color: transparent;\n",
              "      border-bottom-color: var(--fill-color);\n",
              "      border-left-color: var(--fill-color);\n",
              "    }\n",
              "    20% {\n",
              "      border-color: transparent;\n",
              "      border-left-color: var(--fill-color);\n",
              "      border-top-color: var(--fill-color);\n",
              "    }\n",
              "    30% {\n",
              "      border-color: transparent;\n",
              "      border-left-color: var(--fill-color);\n",
              "      border-top-color: var(--fill-color);\n",
              "      border-right-color: var(--fill-color);\n",
              "    }\n",
              "    40% {\n",
              "      border-color: transparent;\n",
              "      border-right-color: var(--fill-color);\n",
              "      border-top-color: var(--fill-color);\n",
              "    }\n",
              "    60% {\n",
              "      border-color: transparent;\n",
              "      border-right-color: var(--fill-color);\n",
              "    }\n",
              "    80% {\n",
              "      border-color: transparent;\n",
              "      border-right-color: var(--fill-color);\n",
              "      border-bottom-color: var(--fill-color);\n",
              "    }\n",
              "    90% {\n",
              "      border-color: transparent;\n",
              "      border-bottom-color: var(--fill-color);\n",
              "    }\n",
              "  }\n",
              "</style>\n",
              "\n",
              "  <script>\n",
              "    async function quickchart(key) {\n",
              "      const quickchartButtonEl =\n",
              "        document.querySelector('#' + key + ' button');\n",
              "      quickchartButtonEl.disabled = true;  // To prevent multiple clicks.\n",
              "      quickchartButtonEl.classList.add('colab-df-spinner');\n",
              "      try {\n",
              "        const charts = await google.colab.kernel.invokeFunction(\n",
              "            'suggestCharts', [key], {});\n",
              "      } catch (error) {\n",
              "        console.error('Error during call to suggestCharts:', error);\n",
              "      }\n",
              "      quickchartButtonEl.classList.remove('colab-df-spinner');\n",
              "      quickchartButtonEl.classList.add('colab-df-quickchart-complete');\n",
              "    }\n",
              "    (() => {\n",
              "      let quickchartButtonEl =\n",
              "        document.querySelector('#df-32970528-cb28-4ca1-b5cb-d5e54f84aa7e button');\n",
              "      quickchartButtonEl.style.display =\n",
              "        google.colab.kernel.accessAllowed ? 'block' : 'none';\n",
              "    })();\n",
              "  </script>\n",
              "</div>\n",
              "\n",
              "    </div>\n",
              "  </div>\n"
            ],
            "application/vnd.google.colaboratory.intrinsic+json": {
              "type": "dataframe",
              "variable_name": "df",
              "summary": "{\n  \"name\": \"df\",\n  \"rows\": 583,\n  \"fields\": [\n    {\n      \"column\": \"login\",\n      \"properties\": {\n        \"dtype\": \"string\",\n        \"num_unique_values\": 583,\n        \"samples\": [\n          \"sentenwin\",\n          \"sabihak89\",\n          \"rohan1917\"\n        ],\n        \"semantic_type\": \"\",\n        \"description\": \"\"\n      }\n    },\n    {\n      \"column\": \"name\",\n      \"properties\": {\n        \"dtype\": \"string\",\n        \"num_unique_values\": 583,\n        \"samples\": [\n          \"Senthilkumar Murugesan\",\n          \"Sabiha Khan\",\n          \"Rohan Kinnal\"\n        ],\n        \"semantic_type\": \"\",\n        \"description\": \"\"\n      }\n    },\n    {\n      \"column\": \"company\",\n      \"properties\": {\n        \"dtype\": \"string\",\n        \"num_unique_values\": 338,\n        \"samples\": [\n          \"YOUTUBER - ANDROIDABCD\",\n          \"AWS\",\n          \"TIGER ANALYTICS\"\n        ],\n        \"semantic_type\": \"\",\n        \"description\": \"\"\n      }\n    },\n    {\n      \"column\": \"location\",\n      \"properties\": {\n        \"dtype\": \"category\",\n        \"num_unique_values\": 51,\n        \"samples\": [\n          \"Singapore, Bangalore, London, New York\",\n          \"Bangalore, Nilgiris\",\n          \"Bangalore, Karnataka \"\n        ],\n        \"semantic_type\": \"\",\n        \"description\": \"\"\n      }\n    },\n    {\n      \"column\": \"email\",\n      \"properties\": {\n        \"dtype\": \"string\",\n        \"num_unique_values\": 339,\n        \"samples\": [\n          \"praseedha.kalbhavi@learner.manipal.edu\",\n          \"bosejijo@gmail.com\",\n          \"pallavagarwal07@gmail.com\"\n        ],\n        \"semantic_type\": \"\",\n        \"description\": \"\"\n      }\n    },\n    {\n      \"column\": \"hireable\",\n      \"properties\": {\n        \"dtype\": \"boolean\",\n        \"num_unique_values\": 2,\n        \"samples\": [\n          true,\n          false\n        ],\n        \"semantic_type\": \"\",\n        \"description\": \"\"\n      }\n    },\n    {\n      \"column\": \"bio\",\n      \"properties\": {\n        \"dtype\": \"string\",\n        \"num_unique_values\": 487,\n        \"samples\": [\n          \"I am Rahul Sahay, Software Developer by profession, currently spearheading the development activities at Publicis Sapient. Architect\",\n          \"Computer Vision Engineer @ Zeiss | Former Intern @ Stanford University, IISc | Kaggle Master | IIIT-NR\"\n        ],\n        \"semantic_type\": \"\",\n        \"description\": \"\"\n      }\n    },\n    {\n      \"column\": \"public_repos\",\n      \"properties\": {\n        \"dtype\": \"number\",\n        \"std\": 109,\n        \"min\": 0,\n        \"max\": 1563,\n        \"num_unique_values\": 194,\n        \"samples\": [\n          223,\n          59\n        ],\n        \"semantic_type\": \"\",\n        \"description\": \"\"\n      }\n    },\n    {\n      \"column\": \"followers\",\n      \"properties\": {\n        \"dtype\": \"number\",\n        \"std\": 1350,\n        \"min\": 101,\n        \"max\": 30869,\n        \"num_unique_values\": 284,\n        \"samples\": [\n          2376,\n          131\n        ],\n        \"semantic_type\": \"\",\n        \"description\": \"\"\n      }\n    },\n    {\n      \"column\": \"following\",\n      \"properties\": {\n        \"dtype\": \"number\",\n        \"std\": 984,\n        \"min\": 0,\n        \"max\": 20326,\n        \"num_unique_values\": 219,\n        \"samples\": [\n          2056,\n          325\n        ],\n        \"semantic_type\": \"\",\n        \"description\": \"\"\n      }\n    },\n    {\n      \"column\": \"created_at\",\n      \"properties\": {\n        \"dtype\": \"object\",\n        \"num_unique_values\": 583,\n        \"samples\": [\n          \"2012-11-15T11:14:06Z\",\n          \"2021-07-23T10:55:05Z\"\n        ],\n        \"semantic_type\": \"\",\n        \"description\": \"\"\n      }\n    },\n    {\n      \"column\": \"surname\",\n      \"properties\": {\n        \"dtype\": \"string\",\n        \"num_unique_values\": 429,\n        \"samples\": [\n          \"Vasanth\",\n          \"Chandnani\"\n        ],\n        \"semantic_type\": \"\",\n        \"description\": \"\"\n      }\n    },\n    {\n      \"column\": \"bio_len\",\n      \"properties\": {\n        \"dtype\": \"number\",\n        \"std\": 49.28709056620857,\n        \"min\": 0.0,\n        \"max\": 160.0,\n        \"num_unique_values\": 150,\n        \"samples\": [\n          43.0,\n          0.0\n        ],\n        \"semantic_type\": \"\",\n        \"description\": \"\"\n      }\n    },\n    {\n      \"column\": \"bio_word_count\",\n      \"properties\": {\n        \"dtype\": \"number\",\n        \"std\": 7,\n        \"min\": 0,\n        \"max\": 31,\n        \"num_unique_values\": 31,\n        \"samples\": [\n          22,\n          2\n        ],\n        \"semantic_type\": \"\",\n        \"description\": \"\"\n      }\n    }\n  ]\n}"
            }
          },
          "metadata": {},
          "execution_count": 4
        }
      ]
    },
    {
      "cell_type": "markdown",
      "source": [
        "2. Who are the 5 earliest registered GitHub users in Bangalore? List their login in ascending order of created_at, comma-separated."
      ],
      "metadata": {
        "id": "jh4mBBuTs4jg"
      }
    },
    {
      "cell_type": "code",
      "source": [
        "df_bangalore = df[df['location'].str.contains(\"Bangalore\", case=False, na=False)]\n",
        "df_sorted = df_bangalore.sort_values(by='created_at').head(5)\n",
        "\n",
        "earliest_users = ','.join(df_sorted['login'].tolist())\n",
        "print(earliest_users)"
      ],
      "metadata": {
        "colab": {
          "base_uri": "https://localhost:8080/"
        },
        "id": "LwSk0m3wLebh",
        "outputId": "0be3401b-461f-466d-9f6f-196ae723a203"
      },
      "execution_count": 5,
      "outputs": [
        {
          "output_type": "stream",
          "name": "stdout",
          "text": [
            "anandology,irfn,jace,abhisek,abhin4v\n"
          ]
        }
      ]
    },
    {
      "cell_type": "markdown",
      "source": [
        "3. What are the 3 most popular license among these users? Ignore missing licenses. List the license_name in order, comma-separated."
      ],
      "metadata": {
        "id": "PBdR49yVtGdj"
      }
    },
    {
      "cell_type": "code",
      "source": [
        "df_licenses = df_r.dropna(subset=['license_name'])\n",
        "\n",
        "top_licenses = df_licenses['license_name'].value_counts().head(3).index.tolist()\n",
        "\n",
        "top_licenses_str = ','.join(top_licenses)\n",
        "print(top_licenses_str)"
      ],
      "metadata": {
        "colab": {
          "base_uri": "https://localhost:8080/"
        },
        "id": "pdHTgwUYLwxB",
        "outputId": "9d7ce048-5e1b-4295-d81d-e549f5311fa5"
      },
      "execution_count": 6,
      "outputs": [
        {
          "output_type": "stream",
          "name": "stdout",
          "text": [
            "mit,apache-2.0,other\n"
          ]
        }
      ]
    },
    {
      "cell_type": "markdown",
      "source": [
        "4. Which company do the majority of these developers work at?"
      ],
      "metadata": {
        "id": "P12VYDFmtRI5"
      }
    },
    {
      "cell_type": "code",
      "source": [
        "company_counts = df['company'].value_counts()\n",
        "most_common_company = company_counts.idxmax()\n",
        "most_common_count = company_counts.max()\n",
        "\n",
        "print(f\"The majority of developers work at: {most_common_company} with {most_common_count} developers.\")"
      ],
      "metadata": {
        "colab": {
          "base_uri": "https://localhost:8080/"
        },
        "id": "v_nHobYEM9W5",
        "outputId": "76a12894-fb04-444c-b339-bf41d482d77a"
      },
      "execution_count": 7,
      "outputs": [
        {
          "output_type": "stream",
          "name": "stdout",
          "text": [
            "The majority of developers work at: GOOGLE with 14 developers.\n"
          ]
        }
      ]
    },
    {
      "cell_type": "markdown",
      "source": [
        "Which programming language is most popular among these users?"
      ],
      "metadata": {
        "id": "1oLRDc8rtYyk"
      }
    },
    {
      "cell_type": "code",
      "source": [
        "language_counts = df_r['language'].value_counts()\n",
        "most_popular_language = language_counts.idxmax()\n",
        "most_popular_count = language_counts.max()\n",
        "\n",
        "print(f\"The most popular programming language among these users is: {most_popular_language} with {most_popular_count} repositories.\")"
      ],
      "metadata": {
        "colab": {
          "base_uri": "https://localhost:8080/"
        },
        "id": "F8nDXCpDNLub",
        "outputId": "5607c13c-7c79-4c71-d00f-6b29bcf78ac7"
      },
      "execution_count": 8,
      "outputs": [
        {
          "output_type": "stream",
          "name": "stdout",
          "text": [
            "The most popular programming language among these users is: JavaScript with 9355 repositories.\n"
          ]
        }
      ]
    },
    {
      "cell_type": "markdown",
      "source": [
        "6. Which programming language is the second most popular among users who joined after 2020?"
      ],
      "metadata": {
        "id": "pbQkiycgtgsD"
      }
    },
    {
      "cell_type": "code",
      "source": [
        "df['created_at'] = pd.to_datetime(df['created_at'])\n",
        "filtered_users = df[df['created_at'] > '2020-01-01']\n",
        "filtered_repos = df_r[df_r['login'].isin(filtered_users['login'])]\n",
        "language_counts = filtered_repos['language'].value_counts()\n",
        "second_most_popular_language = language_counts.index[1]\n",
        "second_most_popular_count = language_counts.iloc[1]\n",
        "\n",
        "print(f\"The second most popular programming language among users who joined after 2020 is: {second_most_popular_language} with {second_most_popular_count} repositories.\")"
      ],
      "metadata": {
        "colab": {
          "base_uri": "https://localhost:8080/"
        },
        "id": "Xkh54HX7NV6Q",
        "outputId": "0173b593-22c0-4e9f-ea19-7c28a4c31fde"
      },
      "execution_count": 9,
      "outputs": [
        {
          "output_type": "stream",
          "name": "stdout",
          "text": [
            "The second most popular programming language among users who joined after 2020 is: HTML with 652 repositories.\n"
          ]
        }
      ]
    },
    {
      "cell_type": "markdown",
      "source": [
        "7. Which language has the highest average number of stars per repository?"
      ],
      "metadata": {
        "id": "fqjWKi29txxV"
      }
    },
    {
      "cell_type": "code",
      "source": [
        "average_stars = df_r.groupby('language')['stargazers_count'].mean()\n",
        "highest_avg_stars_language = average_stars.idxmax()\n",
        "highest_avg_stars_value = average_stars.max()\n",
        "\n",
        "print(f\"The programming language with the highest average number of stars per repository is: {highest_avg_stars_language} with an average of {highest_avg_stars_value:.2f} stars.\")"
      ],
      "metadata": {
        "colab": {
          "base_uri": "https://localhost:8080/"
        },
        "id": "-M7uj96JNmwO",
        "outputId": "3b6a7320-2726-4dfc-d90f-39fc84814da4"
      },
      "execution_count": 10,
      "outputs": [
        {
          "output_type": "stream",
          "name": "stdout",
          "text": [
            "The programming language with the highest average number of stars per repository is: Pascal with an average of 92.00 stars.\n"
          ]
        }
      ]
    },
    {
      "cell_type": "markdown",
      "source": [
        "8. Let's define leader_strength as followers / (1 + following). Who are the top 5 in terms of leader_strength? List their login in order, comma-separated."
      ],
      "metadata": {
        "id": "3l4LWvmQuDQz"
      }
    },
    {
      "cell_type": "code",
      "source": [
        "df['leader_strength'] = df['followers'] / (1 + df['following'])\n",
        "top_leaders = df.nlargest(5, 'leader_strength')['login']\n",
        "top_leaders_list = ','.join(top_leaders)\n",
        "top_leaders_list"
      ],
      "metadata": {
        "colab": {
          "base_uri": "https://localhost:8080/",
          "height": 35
        },
        "id": "TnrNCEw0Oa3s",
        "outputId": "6d62644b-a0f6-4cdb-afe4-f38a54289d2c"
      },
      "execution_count": 11,
      "outputs": [
        {
          "output_type": "execute_result",
          "data": {
            "text/plain": [
              "'krishnaik06,Hack-with-Github,laxmimerit,tanaypratap,abhishh1'"
            ],
            "application/vnd.google.colaboratory.intrinsic+json": {
              "type": "string"
            }
          },
          "metadata": {},
          "execution_count": 11
        }
      ]
    },
    {
      "cell_type": "markdown",
      "source": [
        "9. What is the correlation between the number of followers and the number of public repositories among users in Bangalore?"
      ],
      "metadata": {
        "id": "r9diEcm6uUjy"
      }
    },
    {
      "cell_type": "code",
      "source": [
        "correlation = df['followers'].corr(df['public_repos'])\n",
        "correlation_rounded = round(correlation, 3)\n",
        "correlation_rounded"
      ],
      "metadata": {
        "colab": {
          "base_uri": "https://localhost:8080/"
        },
        "id": "OxsBDHD0OmAL",
        "outputId": "bd904505-7ab9-4684-9800-44c6cf9393e5"
      },
      "execution_count": 13,
      "outputs": [
        {
          "output_type": "execute_result",
          "data": {
            "text/plain": [
              "0.192"
            ]
          },
          "metadata": {},
          "execution_count": 13
        }
      ]
    },
    {
      "cell_type": "markdown",
      "source": [
        "10. Does creating more repos help users get more followers? Using regression, estimate how many additional followers a user gets per additional public repository."
      ],
      "metadata": {
        "id": "5n16SsPpuiQ1"
      }
    },
    {
      "cell_type": "code",
      "source": [
        "from sklearn.linear_model import LinearRegression\n",
        "\n",
        "X = df[['public_repos']]\n",
        "y = df['followers']\n",
        "\n",
        "model = LinearRegression().fit(X, y)\n",
        "additional_followers_per_repo = model.coef_[0]\n",
        "rounded = round(additional_followers_per_repo, 3)\n",
        "rounded"
      ],
      "metadata": {
        "colab": {
          "base_uri": "https://localhost:8080/"
        },
        "id": "M91W8yd7O2rK",
        "outputId": "ad94de3d-66d8-4b85-87b9-2e422bab6e2b"
      },
      "execution_count": 16,
      "outputs": [
        {
          "output_type": "execute_result",
          "data": {
            "text/plain": [
              "2.357"
            ]
          },
          "metadata": {},
          "execution_count": 16
        }
      ]
    },
    {
      "cell_type": "markdown",
      "source": [
        "11. Do people typically enable projects and wikis together? What is the correlation between a repo having projects enabled and having wiki enabled?"
      ],
      "metadata": {
        "id": "9OFNOKO2vTcr"
      }
    },
    {
      "cell_type": "code",
      "source": [
        "correlation = df_r['has_projects'].corr(df_r['has_wiki'])\n",
        "df_r['has_projects'].value_counts() ,df_r['has_wiki'].value_counts()\n",
        "\n",
        "correlation_rounded = round(correlation, 3)\n",
        "correlation_rounded"
      ],
      "metadata": {
        "colab": {
          "base_uri": "https://localhost:8080/"
        },
        "id": "ewa-UTHePKJM",
        "outputId": "317cb9a1-a728-4100-e247-00389bda1c8c"
      },
      "execution_count": 17,
      "outputs": [
        {
          "output_type": "execute_result",
          "data": {
            "text/plain": [
              "0.198"
            ]
          },
          "metadata": {},
          "execution_count": 17
        }
      ]
    },
    {
      "cell_type": "markdown",
      "source": [
        "12. Do hireable users follow more people than those who are not hireable?"
      ],
      "metadata": {
        "id": "XBz4AJr8vesr"
      }
    },
    {
      "cell_type": "code",
      "source": [
        "hierable = df[df['hireable'] == True]\n",
        "non_hierable = df[df['hireable'] != True]\n",
        "\n",
        "\n",
        "difference = hierable['following'].mean()-non_hierable['following'].mean()\n",
        "difference_rounded = round(difference, 3)\n",
        "\n",
        "\n",
        "print(difference_rounded)"
      ],
      "metadata": {
        "colab": {
          "base_uri": "https://localhost:8080/"
        },
        "id": "yz1ihiB7QDrA",
        "outputId": "46effe16-3549-4e9f-8ac5-a512a0d99851"
      },
      "execution_count": 19,
      "outputs": [
        {
          "output_type": "stream",
          "name": "stdout",
          "text": [
            "79.91\n"
          ]
        }
      ]
    },
    {
      "cell_type": "markdown",
      "source": [
        "13. Some developers write long bios. Does that help them get more followers? What's the impact of the length of their bio (in Unicode words, split by whitespace) with followers? (Ignore people without bios)"
      ],
      "metadata": {
        "id": "cldXwApqvwXy"
      }
    },
    {
      "cell_type": "code",
      "source": [
        "from sklearn.linear_model import LinearRegression\n",
        "\n",
        "\n",
        "df_with_bio = df\n",
        "df_with_bio['bio'] = df_with_bio['bio'].fillna('')\n",
        "df_with_bio = df_with_bio[df_with_bio['bio'].notna() & (df_with_bio['bio'] != '')].copy()\n",
        "df_with_bio.loc[:, 'bio_len'] = df_with_bio['bio'].str.len()\n",
        "df_with_bio['bio_word_count'] = df_with_bio['bio'].str.split().apply(len)\n",
        "\n",
        "X = df_with_bio[['bio_word_count']].values.reshape(-1,1)\n",
        "y = df_with_bio['followers']\n",
        "\n",
        "model = LinearRegression()\n",
        "model.fit(X, y)\n",
        "slop = model.coef_[0]\n",
        "rounded = round(slop, 3)\n",
        "rounded"
      ],
      "metadata": {
        "colab": {
          "base_uri": "https://localhost:8080/"
        },
        "id": "Oc1rveE-TmHT",
        "outputId": "05bae641-159d-45a4-e7ba-a9b3fdf51cd5"
      },
      "execution_count": 21,
      "outputs": [
        {
          "output_type": "execute_result",
          "data": {
            "text/plain": [
              "0.339"
            ]
          },
          "metadata": {},
          "execution_count": 21
        }
      ]
    },
    {
      "cell_type": "markdown",
      "source": [
        "14. Who created the most repositories on weekends (UTC)? List the top 5 users' login in order, comma-separated"
      ],
      "metadata": {
        "id": "uzB1ZZBxwMLL"
      }
    },
    {
      "cell_type": "code",
      "source": [
        "df_r['created_at'] = pd.to_datetime(df_r['created_at'], utc=True)\n",
        "weekend_repos = df_r[df_r['created_at'].dt.weekday.isin([5, 6])]\n",
        "weekend_repo_counts = weekend_repos['login'].value_counts().head(6)\n",
        "\n",
        "top_5_users = ','.join(weekend_repo_counts.index)\n",
        "\n",
        "print(top_5_users,weekend_repo_counts)"
      ],
      "metadata": {
        "colab": {
          "base_uri": "https://localhost:8080/"
        },
        "id": "1e_TX_KCU8oB",
        "outputId": "5b6f26a0-76bc-4526-81ac-df33cfe88d98"
      },
      "execution_count": 22,
      "outputs": [
        {
          "output_type": "stream",
          "name": "stdout",
          "text": [
            "manjunath5496,itaditya,avinassh,narayanr7,Tivotal,sangam14 login\n",
            "manjunath5496    405\n",
            "itaditya         131\n",
            "avinassh         127\n",
            "narayanr7        126\n",
            "Tivotal          125\n",
            "sangam14         125\n",
            "Name: count, dtype: int64\n"
          ]
        }
      ]
    },
    {
      "cell_type": "markdown",
      "source": [
        "15. Do people who are hireable share their email addresses more often?"
      ],
      "metadata": {
        "id": "Iy4ftyeFwb7Z"
      }
    },
    {
      "cell_type": "code",
      "source": [
        "hireable = df[df['hireable'] == True]\n",
        "non_hireable = df[df['hireable'] != True]\n",
        "\n",
        "hireable_email_fraction = hireable['email'].notna().mean()\n",
        "non_hireable_email_fraction = non_hireable['email'].notna().mean()\n",
        "\n",
        "email_fraction_difference = round(hireable_email_fraction - non_hireable_email_fraction, 3)\n",
        "\n",
        "print(email_fraction_difference)"
      ],
      "metadata": {
        "colab": {
          "base_uri": "https://localhost:8080/"
        },
        "id": "MbN-NSA1VOYU",
        "outputId": "e762f0b2-1082-4434-ca15-a00226a77e69"
      },
      "execution_count": 24,
      "outputs": [
        {
          "output_type": "stream",
          "name": "stdout",
          "text": [
            "0.18\n"
          ]
        }
      ]
    },
    {
      "cell_type": "markdown",
      "source": [
        "16. Let's assume that the last word in a user's name is their surname (ignore missing names, trim and split by whitespace.) What's the most common surname? (If there's a tie, list them all, comma-separated, alphabetically)"
      ],
      "metadata": {
        "id": "6g7vV-Ciwteq"
      }
    },
    {
      "cell_type": "code",
      "source": [
        "df['surname'] = df['name'].apply(lambda x: x.split()[-1])\n",
        "surname_counts = df['surname'].value_counts()\n",
        "max_count = surname_counts.max()\n",
        "most_common_surnames = ','.join(sorted(surname_counts[surname_counts == max_count].index))\n",
        "\n",
        "print(f\"Most common surname(s): {most_common_surnames}\")\n",
        "print(f\"Number of users with the most common surname: {max_count}\")"
      ],
      "metadata": {
        "colab": {
          "base_uri": "https://localhost:8080/"
        },
        "id": "IYpKjwjzVdWb",
        "outputId": "20a256c7-0704-42e2-b7d5-029a12f12c4e"
      },
      "execution_count": 25,
      "outputs": [
        {
          "output_type": "stream",
          "name": "stdout",
          "text": [
            "Most common surname(s): Kumar,Singh\n",
            "Number of users with the most common surname: 21\n"
          ]
        }
      ]
    }
  ]
}